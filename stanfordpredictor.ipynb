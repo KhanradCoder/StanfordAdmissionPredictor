{
  "nbformat": 4,
  "nbformat_minor": 0,
  "metadata": {
    "colab": {
      "name": "stanfordpredictor.ipynb",
      "version": "0.3.2",
      "provenance": [],
      "toc_visible": true,
      "include_colab_link": true
    }
  },
  "cells": [
    {
      "cell_type": "markdown",
      "metadata": {
        "id": "view-in-github",
        "colab_type": "text"
      },
      "source": [
        "[View in Colaboratory](https://colab.research.google.com/github/KhanradCoder/StanfordAdmissionPredictor/blob/master/stanfordpredictor.ipynb)"
      ]
    },
    {
      "metadata": {
        "id": "BUV3wD_y2P-B",
        "colab_type": "text"
      },
      "cell_type": "markdown",
      "source": [
        "# Importing the Data"
      ]
    },
    {
      "metadata": {
        "id": "fIwFbwqV2hm0",
        "colab_type": "code",
        "colab": {}
      },
      "cell_type": "code",
      "source": [
        "import numpy as np\n",
        "import pandas as pd\n",
        "import csv\n",
        "import urllib2\n",
        "\n",
        "url = 'https://raw.githubusercontent.com/KhanradCoder/StanfordAdmissionPredictor/master/stanford_data.csv'\n",
        "response = urllib2.urlopen(url)\n",
        "admit = pd.read_csv(response)"
      ],
      "execution_count": 0,
      "outputs": []
    },
    {
      "metadata": {
        "id": "8dRX_kWR3QYp",
        "colab_type": "code",
        "colab": {}
      },
      "cell_type": "code",
      "source": [
        "from sklearn.model_selection import train_test_split\n",
        "x = admit.drop('Admit',axis=1)\n",
        "y_labels = admit['Admit']\n",
        "assert not np.any(np.isnan(x)) #makes sure there are no missing values in the data"
      ],
      "execution_count": 0,
      "outputs": []
    },
    {
      "metadata": {
        "id": "Ka1rp9er3YzR",
        "colab_type": "code",
        "colab": {}
      },
      "cell_type": "code",
      "source": [
        "X_train, X_test, y_train, y_test = train_test_split(x, y_labels, test_size=0.2, random_state=101)"
      ],
      "execution_count": 0,
      "outputs": []
    },
    {
      "metadata": {
        "id": "ZeYk1EZn3dop",
        "colab_type": "code",
        "colab": {}
      },
      "cell_type": "code",
      "source": [
        "import tensorflow as tf\n",
        "unweight = tf.feature_column.numeric_column(\"UW\")\n",
        "weight = tf.feature_column.numeric_column(\"W\")\n",
        "sat = tf.feature_column.numeric_column(\"SAT\")\n",
        "rank = tf.feature_column.numeric_column(\"Rank\")\n",
        "feat_cols = [unweight,weight,sat,rank]"
      ],
      "execution_count": 0,
      "outputs": []
    },
    {
      "metadata": {
        "id": "oPK5ygRkUrhr",
        "colab_type": "text"
      },
      "cell_type": "markdown",
      "source": [
        "# Train the model\n",
        "Note you may want to iterate through this cell a couple of times to get the most accurate results.\n"
      ]
    },
    {
      "metadata": {
        "id": "wWh9mpBO3jHm",
        "colab_type": "code",
        "colab": {
          "base_uri": "https://localhost:8080/",
          "height": 75313
        },
        "cellView": "code",
        "outputId": "bbda8870-0ff5-4112-dcea-08cce5632b38"
      },
      "cell_type": "code",
      "source": [
        "input_func = tf.estimator.inputs.pandas_input_fn(x=X_train,y=y_train,batch_size=10,num_epochs=None,shuffle=True)\n",
        "model = tf.estimator.DNNClassifier(feature_columns=feat_cols,hidden_units=[5,10], model_dir='stanford_models')\n",
        "for i in range(20):\n",
        "  model.train(input_fn=input_func,steps=10000)"
      ],
      "execution_count": 141,
      "outputs": [
        {
          "output_type": "stream",
          "text": [
            "Deleted training output so you could see the rest of the code easier"
          ],
          "name": "stdout"
        }
      ]
    },
    {
      "metadata": {
        "id": "ISDMFsnyUOxX",
        "colab_type": "text"
      },
      "cell_type": "markdown",
      "source": [
        "# Test the model\n",
        "To see what your chances are, modify the 'my_stats' variable in this format:\n",
        "\n",
        "\n",
        "```\n",
        "my_stats = [unweighted_gpa,weighted_gpa,sat,class_percentile_ranking]\n",
        "```\n",
        "\n"
      ]
    },
    {
      "metadata": {
        "id": "oFMoFtrq-X6j",
        "colab_type": "code",
        "colab": {
          "base_uri": "https://localhost:8080/",
          "height": 251
        },
        "outputId": "df005f26-d494-4163-e3a2-adea1b59520f"
      },
      "cell_type": "code",
      "source": [
        "pred_fn = tf.estimator.inputs.pandas_input_fn(x=X_test,batch_size=len(X_test),shuffle=False)\n",
        "predictions = list(model.predict(input_fn=pred_fn))\n",
        "final_preds = []\n",
        "for pred in predictions:\n",
        "    final_preds.append(pred['class_ids'][0])\n",
        "from sklearn.metrics import classification_report\n",
        "print(classification_report(y_test,final_preds))"
      ],
      "execution_count": 142,
      "outputs": [
        {
          "output_type": "stream",
          "text": [
            "INFO:tensorflow:Calling model_fn.\n",
            "INFO:tensorflow:Done calling model_fn.\n",
            "INFO:tensorflow:Graph was finalized.\n",
            "INFO:tensorflow:Restoring parameters from stanford_models/model.ckpt-231000\n",
            "INFO:tensorflow:Running local_init_op.\n",
            "INFO:tensorflow:Done running local_init_op.\n",
            "             precision    recall  f1-score   support\n",
            "\n",
            "          0       0.94      1.00      0.97       140\n",
            "          1       0.00      0.00      0.00         9\n",
            "\n",
            "avg / total       0.88      0.94      0.91       149\n",
            "\n"
          ],
          "name": "stdout"
        }
      ]
    },
    {
      "metadata": {
        "id": "pXd1Tztb3n-V",
        "colab_type": "code",
        "colab": {
          "base_uri": "https://localhost:8080/",
          "height": 179
        },
        "outputId": "3c0bee20-284e-4b99-c189-d5493f15c62d"
      },
      "cell_type": "code",
      "source": [
        "my_stats = [4,4.8,1600,0.99]\n",
        "\n",
        "data = pd.DataFrame({'UW': [my_stats[0]], 'W': [my_stats[1]], 'SAT': [my_stats[2]],\n",
        "                     'Rank': [my_stats[3]]})\n",
        "\n",
        "pred_fn = tf.estimator.inputs.pandas_input_fn(x=data,num_epochs=1,shuffle=False)\n",
        "\n",
        "import numpy as np\n",
        "pred_gen = list(model.predict(input_fn=pred_fn))\n",
        "\n",
        "likelyhood = pred_gen[0]['logistic']\n",
        "likelyhood = round(likelyhood[0]*100,2)\n",
        "print('\\n')\n",
        "print (\"You are \"+str(likelyhood)+\"% likely to get into Stanford\")"
      ],
      "execution_count": 147,
      "outputs": [
        {
          "output_type": "stream",
          "text": [
            "INFO:tensorflow:Calling model_fn.\n",
            "INFO:tensorflow:Done calling model_fn.\n",
            "INFO:tensorflow:Graph was finalized.\n",
            "INFO:tensorflow:Restoring parameters from stanford_models/model.ckpt-231000\n",
            "INFO:tensorflow:Running local_init_op.\n",
            "INFO:tensorflow:Done running local_init_op.\n",
            "\n",
            "\n",
            "You are 24.3% likely to get into Stanford\n"
          ],
          "name": "stdout"
        }
      ]
    },
    {
      "metadata": {
        "id": "SIntwxDcZfRh",
        "colab_type": "code",
        "colab": {}
      },
      "cell_type": "code",
      "source": [
        ""
      ],
      "execution_count": 0,
      "outputs": []
    }
  ]
}
